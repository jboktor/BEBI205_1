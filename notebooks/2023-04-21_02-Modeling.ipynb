{
 "cells": [
  {
   "cell_type": "code",
   "execution_count": 42,
   "metadata": {},
   "outputs": [],
   "source": [
    "import numpy as np\n",
    "import pandas as pd\n",
    "import os\n",
    "import glob\n",
    "import matplotlib.pyplot as plt\n",
    "import yaml\n",
    "from skimage import exposure, util\n",
    "from skimage.transform import resize\n",
    "import sklearn.model_selection\n",
    "from tqdm import tqdm\n",
    "import pickle\n",
    "import random\n",
    "from tensorflow.keras.layers import Input, Flatten, Dense, Activation, BatchNormalization, Conv2D, MaxPool2D, Softmax\n",
    "from tensorflow.keras import Model\n",
    "from tensorflow.keras.utils import plot_model\n",
    "import tensorflow as tf\n",
    "gpus = tf.config.experimental.list_physical_devices('GPU')\n",
    "for gpu in gpus:\n",
    "      tf.config.experimental.set_memory_growth(gpu, True)\n",
    "import tensorflow_addons as tfa"
   ]
  },
  {
   "attachments": {},
   "cell_type": "markdown",
   "metadata": {},
   "source": [
    "Loading Data"
   ]
  },
  {
   "cell_type": "code",
   "execution_count": 43,
   "metadata": {},
   "outputs": [],
   "source": [
    "data_paths = glob.glob( '../data/input/keren/*.npz')"
   ]
  },
  {
   "cell_type": "code",
   "execution_count": 44,
   "metadata": {},
   "outputs": [
    {
     "name": "stdout",
     "output_type": "stream",
     "text": [
      "{0: 'Background', 1: 'Unidentified', 2: 'Endothelial', 3: 'Mesenchyme', 4: 'Tumor', 5: 'Tregs', 6: 'CD4T', 7: 'CD8T', 8: 'CD3T', 9: 'Nk', 10: 'Bcell', 11: 'Neutrophil', 12: 'Macrophage', 13: 'DC', 14: 'DC_Mono', 15: 'Mono_Neu', 16: 'Immune_other', 17: 'FAILED_HARMONIZATION'}\n",
      "{0: 'Au', 1: 'B7H3', 2: 'Beta-catenin', 3: 'C', 4: 'CD11b', 5: 'CD11c', 6: 'CD138', 7: 'CD16', 8: 'CD163', 9: 'CD20', 10: 'CD209', 11: 'CD3', 12: 'CD31', 13: 'CD4', 14: 'CD45', 15: 'CD45RO', 16: 'CD56', 17: 'CD63', 18: 'CD68', 19: 'CD8', 20: 'CSF-1R', 21: 'Ca', 22: 'EGFR', 23: 'Fe', 24: 'FoxP3', 25: 'H3K27me3', 26: 'H3K9ac', 27: 'HLA-DR', 28: 'HLA-Class-1', 29: 'IDO', 30: 'Keratin17', 31: 'Keratin6', 32: 'Ki67', 33: 'Lag3', 34: 'MPO', 35: 'Na', 36: 'OX40', 37: 'P', 38: 'PDL1', 39: 'PD1', 40: 'PanCK', 41: 'SMA', 42: 'Si', 43: 'Ta', 44: 'Vimentin', 45: 'dsDNA', 46: 'p53', 47: 'pS6', 48: 'background', 49: 'sum of H3K27me3, H3K9ac, and dsDNA', 50: 'sum_PanCK_CD45'}\n"
     ]
    }
   ],
   "source": [
    "# Defining cell type and channel dictionaries based off meta.yaml\n",
    "with open(\"../data/input/keren/meta.yaml\", 'r') as stream:\n",
    "    data = yaml.safe_load(stream)\n",
    "\n",
    "cell_types_dict = data['cell_types']\n",
    "channels_dict = {i: j for i, j in enumerate(data['channels'])}\n",
    "print(cell_types_dict)\n",
    "print(channels_dict)"
   ]
  },
  {
   "cell_type": "markdown",
   "metadata": {},
   "source": []
  },
  {
   "cell_type": "code",
   "execution_count": 45,
   "metadata": {},
   "outputs": [
    {
     "name": "stdout",
     "output_type": "stream",
     "text": [
      "(1, 2048, 2048, 51) (1, 2048, 2048, 2)\n"
     ]
    }
   ],
   "source": [
    "with np.load(data_paths[1], allow_pickle=True) as f:\n",
    "    X = f['X']\n",
    "    y = f['y']\n",
    "    cell_types = f['cell_types'].item()\n",
    "\n",
    "print(X.shape, y.shape)"
   ]
  },
  {
   "cell_type": "code",
   "execution_count": 46,
   "metadata": {},
   "outputs": [],
   "source": [
    "# Markers identified in previous notebook \n",
    "variable_markers = pd.read_pickle('../data/interim/variable_markers_df.pkl')"
   ]
  },
  {
   "attachments": {},
   "cell_type": "markdown",
   "metadata": {},
   "source": [
    "Utility Functions\n"
   ]
  },
  {
   "cell_type": "code",
   "execution_count": 76,
   "metadata": {},
   "outputs": [],
   "source": [
    "def normalize_image(image):\n",
    "    \"\"\"\n",
    "    Normalizes an image using contrast stretching.\n",
    "    \"\"\"\n",
    "    # stretch contrast\n",
    "    p2, p98 = np.percentile(image, (2, 98))\n",
    "    image = exposure.rescale_intensity(image, in_range=(p2, p98))\n",
    "    # rescale the image to the range [-1, 1]\n",
    "    image = util.img_as_float32(image)\n",
    "    return image\n",
    "def select_random_cell_indices(cell_types, n=25):\n",
    "    \"\"\"\n",
    "    Returns a list of cell indices containing 25 cells of each type.\n",
    "    \"\"\"\n",
    "    random.seed(42)\n",
    "    selected_cell_indices = []\n",
    "    for value in set(cell_types.values()):\n",
    "        keys = [key for key, val in cell_types.items() if val == value]\n",
    "        np.random.shuffle(keys)\n",
    "        selected_cell_indices.extend(keys[:n])\n",
    "    return selected_cell_indices\n",
    "def get_cell_views(image, cell_mask, cell_types):\n",
    "    \"\"\"\n",
    "    Returns a list of cell views and a list of associated cell types.\n",
    "    \"\"\"\n",
    "    cell_views = []\n",
    "    cell_types_list = []\n",
    "    # get random indices for 15 cells of each type cell type\n",
    "    cell_type_indices = select_random_cell_indices(cell_types, n=15)\n",
    "    for j in cell_type_indices:\n",
    "        # mask the cell view to get only the current cell type\n",
    "        masked_view = np.ma.masked_where(cell_mask != j, image)\n",
    "        # append the masked view and associated cell type to the lists\n",
    "        cell_views.append(masked_view)\n",
    "        cell_types_list.append(cell_types[j])\n",
    "    return cell_views, cell_types_list\n",
    "def get_cell_boxes(image, cell_mask, cell_types, use_all_cells=False):\n",
    "    \"\"\"\n",
    "    Returns a list of bounding boxes and a list of associated cell types.\n",
    "    \"\"\"\n",
    "    cell_boxes = []\n",
    "    cell_types_list = []\n",
    "    if use_all_cells:\n",
    "        cell_type_indices = list(np.unique(cell_mask))\n",
    "    else:        \n",
    "        # get random indices for 15 cells of each type cell type\n",
    "        cell_type_indices = select_random_cell_indices(cell_types, n=30)\n",
    "    # loop through cell types\n",
    "    for j in cell_type_indices:\n",
    "        cell_type = cell_types[j]\n",
    "        # get indices for cells of current cell type\n",
    "        cell_indices = np.where(cell_mask == j)\n",
    "        # calculate cell center coordinates\n",
    "        cell_centers = np.stack([cell_indices[0], cell_indices[1]], axis=-1)\n",
    "        cell_centers = cell_centers.mean(axis=0)\n",
    "        cell_center_row, cell_center_col = cell_centers.astype(int)\n",
    "        # calculate cell bounding box coordinates\n",
    "        bbox_row_min = max(0, cell_center_row - 10)\n",
    "        bbox_row_max = min(cell_mask.shape[0]-1, cell_center_row + 10)\n",
    "        bbox_col_min = max(0, cell_center_col - 10)\n",
    "        bbox_col_max = min(cell_mask.shape[1]-1, cell_center_col + 10)\n",
    "        # slice image to get cell view\n",
    "        cell_view = image[bbox_row_min:bbox_row_max+1, bbox_col_min:bbox_col_max+1]\n",
    "        # resize cell view to desired shape\n",
    "        cell_view = resize(cell_view, (21, 21))\n",
    "        # append the cell view and associated cell type to the lists\n",
    "        cell_boxes.append(cell_view)\n",
    "        cell_types_list.append(cell_type)\n",
    "    return cell_boxes, cell_types_list\n"
   ]
  },
  {
   "attachments": {},
   "cell_type": "markdown",
   "metadata": {},
   "source": [
    "Normalize Image intensity using contrast stretching"
   ]
  },
  {
   "cell_type": "code",
   "execution_count": 48,
   "metadata": {},
   "outputs": [
    {
     "name": "stderr",
     "output_type": "stream",
     "text": [
      "100%|██████████| 51/51 [00:10<00:00,  4.66it/s]\n"
     ]
    }
   ],
   "source": [
    "X_norm = np.zeros_like(X)\n",
    "for i in tqdm(range(X.shape[-1])):\n",
    "    X_norm[..., i] = normalize_image(X[..., i])"
   ]
  },
  {
   "attachments": {},
   "cell_type": "markdown",
   "metadata": {},
   "source": [
    "Create cell views using bounding boxes"
   ]
  },
  {
   "cell_type": "code",
   "execution_count": 49,
   "metadata": {},
   "outputs": [
    {
     "name": "stderr",
     "output_type": "stream",
     "text": [
      "100%|██████████| 29/29 [02:53<00:00,  5.99s/it]\n"
     ]
    }
   ],
   "source": [
    "# Create empty arrays with the desired shape and dtype\n",
    "cell_views = np.empty((len(variable_markers.index),), dtype=object)\n",
    "cell_types_list = np.empty((len(variable_markers.index),), dtype=object)\n",
    "\n",
    "for i, channel_key in enumerate(tqdm(variable_markers.index)):\n",
    "    # print('Processing: ' + channels_dict[channel_key])\n",
    "    cell_views[i], cell_types_list[i] = get_cell_boxes(X_norm[0,:,:,channel_key], y[0,:,:,0], cell_types)"
   ]
  },
  {
   "attachments": {},
   "cell_type": "markdown",
   "metadata": {},
   "source": [
    "Format cell views for model input"
   ]
  },
  {
   "cell_type": "code",
   "execution_count": 50,
   "metadata": {},
   "outputs": [],
   "source": [
    "reshaped_cell_views = np.empty((len(cell_views), len(cell_views[0]), 21, 21))\n",
    "for i, channel in enumerate(cell_views):\n",
    "    reshaped_cell_views[i] = np.stack(channel)\n",
    "cell_views_transposed = np.transpose(reshaped_cell_views, (1, 2, 3, 0))\n",
    "\n",
    "reshaped_cell_types = np.empty((len(cell_types_list), len(cell_types_list[0])))\n",
    "for i, channel in enumerate(cell_types_list):\n",
    "    reshaped_cell_types[i] = np.stack(channel)\n",
    "reshaped_cell_types = reshaped_cell_types.transpose((1, 0))"
   ]
  },
  {
   "cell_type": "code",
   "execution_count": 51,
   "metadata": {},
   "outputs": [
    {
     "name": "stdout",
     "output_type": "stream",
     "text": [
      "(443, 21, 21, 29) (443,)\n"
     ]
    }
   ],
   "source": [
    "print(cell_views_transposed.shape, reshaped_cell_types[:,0].shape)"
   ]
  },
  {
   "attachments": {},
   "cell_type": "markdown",
   "metadata": {},
   "source": [
    "Model functions"
   ]
  },
  {
   "cell_type": "code",
   "execution_count": 52,
   "metadata": {},
   "outputs": [],
   "source": [
    "IMG_HEIGHT = cell_views_transposed.shape[1]\n",
    "IMG_WIDTH = cell_views_transposed.shape[2]"
   ]
  },
  {
   "cell_type": "code",
   "execution_count": 53,
   "metadata": {},
   "outputs": [
    {
     "name": "stderr",
     "output_type": "stream",
     "text": [
      "WARNING:absl:`lr` is deprecated in Keras optimizer, please use `learning_rate` or use the legacy optimizer, e.g.,tf.keras.optimizers.legacy.Adam.\n"
     ]
    }
   ],
   "source": [
    "# Create dataset builder\n",
    "class DatasetBuilder(object):\n",
    "    def __init__(self,\n",
    "                 X,\n",
    "                 y,\n",
    "                 batch_size=1,\n",
    "                 rotation_range=180,\n",
    "                 scale_range=(0.75, 1.25)):\n",
    "        self.X = X\n",
    "        self.y = tf.keras.utils.to_categorical(y)\n",
    "        \n",
    "        self.batch_size = batch_size\n",
    "        self.rotation_range = float(rotation_range)\n",
    "        self.scale_range = scale_range\n",
    "        \n",
    "        # Create dataset\n",
    "        self._create_dataset()\n",
    "        \n",
    "    def _augment(self, *args):\n",
    "        img = args[0]\n",
    "        label = args[1]\n",
    "        \n",
    "        theta = tf.random.uniform([1], 0, 2*np.pi*self.rotation_range/360)\n",
    "        img = tfa.image.rotate(img, theta)\n",
    "        img = tf.image.random_flip_left_right(img)\n",
    "        img = tf.image.random_flip_up_down(img)\n",
    "        \n",
    "        return (img, label)\n",
    "        \n",
    "    def _create_dataset(self):\n",
    "        X_train, X_temp, y_train, y_temp = sklearn.model_selection.train_test_split(self.X, self.y, train_size=0.8)\n",
    "        X_val, X_test, y_val, y_test = sklearn.model_selection.train_test_split(X_temp, y_temp, train_size=0.5)\n",
    "        \n",
    "        train_dataset = tf.data.Dataset.from_tensor_slices((X_train, y_train))\n",
    "        val_dataset = tf.data.Dataset.from_tensor_slices((X_val, y_val))\n",
    "        test_dataset = tf.data.Dataset.from_tensor_slices((X_test, y_test))\n",
    "        \n",
    "        self.train_dataset = train_dataset.shuffle(256).batch(self.batch_size).map(self._augment)\n",
    "        self.val_dataset = val_dataset.batch(self.batch_size)\n",
    "        self.test_dataset = test_dataset.batch(self.batch_size)\n",
    "\n",
    "\n",
    "# Define the convolutional neural network\n",
    "def create_conv_classifier():\n",
    "    inputs = Input((IMG_HEIGHT, IMG_WIDTH, 29),\n",
    "                   name='conv_classifier_input')\n",
    "    x = Conv2D(64, (3,3), padding='SAME')(inputs)\n",
    "    x = Activation('relu')(x)\n",
    "    x = BatchNormalization(axis=-1)(x)\n",
    "    x = MaxPool2D(strides=(2,2))(x) # 16, 16\n",
    "    x = Conv2D(64, (3,3), padding='SAME')(x)\n",
    "    x = Activation('relu')(x)\n",
    "    x = BatchNormalization(axis=-1)(x)\n",
    "    x = MaxPool2D(strides=(2,2))(x) # 8,8\n",
    "    x = Conv2D(64, (3,3), padding='SAME')(x)\n",
    "    x = Activation('relu')(x)\n",
    "    x = BatchNormalization(axis=-1)(x)\n",
    "    x = MaxPool2D(strides=(2,2))(x) # 4,4\n",
    "    x = Conv2D(64, (3,3), padding='SAME')(x)\n",
    "    x = Activation('relu')(x)\n",
    "    x = BatchNormalization(axis=-1)(x)\n",
    "    x = MaxPool2D(strides=(2,2))(x) # 2,2\n",
    "    x = Flatten()(x)\n",
    "    x = Dense(18)(x)\n",
    "    x = Softmax(axis=-1)(x)\n",
    "    model = Model(inputs=inputs, outputs=x)\n",
    "    return model\n",
    "\n",
    "conv_classifier = create_conv_classifier()\n",
    "# plot_model(conv_classifier, show_shapes=True)\n",
    "\n",
    "# Define the loss function\n",
    "loss_function = tf.keras.losses.CategoricalCrossentropy() \n",
    "# Define training algorithm\n",
    "conv_optimizer = tf.keras.optimizers.Adam(lr=1e-3, clipnorm=0.001)\n"
   ]
  },
  {
   "cell_type": "code",
   "execution_count": 54,
   "metadata": {},
   "outputs": [],
   "source": [
    "db = DatasetBuilder(cell_views_transposed, reshaped_cell_types[:,0], batch_size=64)"
   ]
  },
  {
   "cell_type": "code",
   "execution_count": 55,
   "metadata": {},
   "outputs": [],
   "source": [
    "# Define training parameters\n",
    "training_steps_per_epoch=512\n",
    "n_epochs=30\n",
    "\n",
    "# Define callbacks\n",
    "conv_model_path = '../data/models/conv'\n",
    "\n",
    "conv_callbacks = [\n",
    "    tf.keras.callbacks.ModelCheckpoint(\n",
    "        conv_model_path, monitor='val_loss',\n",
    "        save_best_only=True, verbose=1,\n",
    "        save_weights_only=False)\n",
    "]\n",
    "\n",
    "conv_callbacks.append(\n",
    "    tf.keras.callbacks.ReduceLROnPlateau(\n",
    "        monitor='val_loss', factor=0.5, verbose=1,\n",
    "        patience=3, min_lr=1e-7)\n",
    ")\n",
    "\n",
    "# Define metrics\n",
    "recall_0 = tf.keras.metrics.Recall(class_id=0)\n",
    "recall_1 = tf.keras.metrics.Recall(class_id=1)\n",
    "\n",
    "precision_0 = tf.keras.metrics.Precision(class_id=0)\n",
    "precision_1 = tf.keras.metrics.Precision(class_id=1)"
   ]
  },
  {
   "cell_type": "code",
   "execution_count": 56,
   "metadata": {},
   "outputs": [],
   "source": [
    "conv_classifier.compile(optimizer=conv_optimizer, \n",
    "                          loss=loss_function, \n",
    "                          metrics = [recall_0, recall_1, precision_0, precision_1])"
   ]
  },
  {
   "attachments": {},
   "cell_type": "markdown",
   "metadata": {},
   "source": [
    "Training Model"
   ]
  },
  {
   "cell_type": "code",
   "execution_count": 57,
   "metadata": {},
   "outputs": [
    {
     "name": "stdout",
     "output_type": "stream",
     "text": [
      "Epoch 1/30\n"
     ]
    },
    {
     "name": "stderr",
     "output_type": "stream",
     "text": [
      "2023-04-21 15:31:21.722623: I tensorflow/core/common_runtime/executor.cc:1197] [/device:CPU:0] (DEBUG INFO) Executor start aborting (this does not indicate an error and you can ignore this message): INVALID_ARGUMENT: You must feed a value for placeholder tensor 'Placeholder/_1' with dtype float and shape [354,18]\n",
      "\t [[{{node Placeholder/_1}}]]\n",
      "2023-04-21 15:31:21.722956: I tensorflow/core/common_runtime/executor.cc:1197] [/device:CPU:0] (DEBUG INFO) Executor start aborting (this does not indicate an error and you can ignore this message): INVALID_ARGUMENT: You must feed a value for placeholder tensor 'Placeholder/_1' with dtype float and shape [354,18]\n",
      "\t [[{{node Placeholder/_1}}]]\n"
     ]
    },
    {
     "name": "stdout",
     "output_type": "stream",
     "text": [
      "5/6 [========================>.....] - ETA: 0s - loss: 3.5478 - recall_2: 0.0000e+00 - recall_3: 0.0000e+00 - precision_2: 0.0000e+00 - precision_3: 0.0000e+00"
     ]
    },
    {
     "name": "stderr",
     "output_type": "stream",
     "text": [
      "2023-04-21 15:31:24.170611: I tensorflow/core/common_runtime/executor.cc:1197] [/device:CPU:0] (DEBUG INFO) Executor start aborting (this does not indicate an error and you can ignore this message): INVALID_ARGUMENT: You must feed a value for placeholder tensor 'Placeholder/_1' with dtype float and shape [44,18]\n",
      "\t [[{{node Placeholder/_1}}]]\n"
     ]
    },
    {
     "name": "stdout",
     "output_type": "stream",
     "text": [
      "\n",
      "Epoch 1: val_loss improved from inf to 2.84749, saving model to ../data/models/conv\n"
     ]
    },
    {
     "name": "stderr",
     "output_type": "stream",
     "text": [
      "WARNING:absl:Found untraced functions such as _jit_compiled_convolution_op, _jit_compiled_convolution_op, _jit_compiled_convolution_op, _jit_compiled_convolution_op, _update_step_xla while saving (showing 5 of 5). These functions will not be directly callable after loading.\n"
     ]
    },
    {
     "name": "stdout",
     "output_type": "stream",
     "text": [
      "INFO:tensorflow:Assets written to: ../data/models/conv/assets\n"
     ]
    },
    {
     "name": "stderr",
     "output_type": "stream",
     "text": [
      "INFO:tensorflow:Assets written to: ../data/models/conv/assets\n"
     ]
    },
    {
     "name": "stdout",
     "output_type": "stream",
     "text": [
      "6/6 [==============================] - 5s 498ms/step - loss: 3.4645 - recall_2: 0.0000e+00 - recall_3: 0.0000e+00 - precision_2: 0.0000e+00 - precision_3: 0.0000e+00 - val_loss: 2.8475 - val_recall_2: 0.0000e+00 - val_recall_3: 0.0000e+00 - val_precision_2: 0.0000e+00 - val_precision_3: 0.0000e+00 - lr: 0.0010\n",
      "Epoch 2/30\n",
      "5/6 [========================>.....] - ETA: 0s - loss: 2.1566 - recall_2: 0.0000e+00 - recall_3: 0.2857 - precision_2: 0.0000e+00 - precision_3: 1.0000     \n",
      "Epoch 2: val_loss improved from 2.84749 to 2.83940, saving model to ../data/models/conv\n"
     ]
    },
    {
     "name": "stderr",
     "output_type": "stream",
     "text": [
      "WARNING:absl:Found untraced functions such as _jit_compiled_convolution_op, _jit_compiled_convolution_op, _jit_compiled_convolution_op, _jit_compiled_convolution_op, _update_step_xla while saving (showing 5 of 5). These functions will not be directly callable after loading.\n"
     ]
    },
    {
     "name": "stdout",
     "output_type": "stream",
     "text": [
      "INFO:tensorflow:Assets written to: ../data/models/conv/assets\n"
     ]
    },
    {
     "name": "stderr",
     "output_type": "stream",
     "text": [
      "INFO:tensorflow:Assets written to: ../data/models/conv/assets\n"
     ]
    },
    {
     "name": "stdout",
     "output_type": "stream",
     "text": [
      "6/6 [==============================] - 3s 631ms/step - loss: 2.1357 - recall_2: 0.0000e+00 - recall_3: 0.2857 - precision_2: 0.0000e+00 - precision_3: 1.0000 - val_loss: 2.8394 - val_recall_2: 0.0000e+00 - val_recall_3: 0.0000e+00 - val_precision_2: 0.0000e+00 - val_precision_3: 0.0000e+00 - lr: 0.0010\n",
      "Epoch 3/30\n",
      "5/6 [========================>.....] - ETA: 0s - loss: 1.5844 - recall_2: 0.0000e+00 - recall_3: 0.7692 - precision_2: 0.0000e+00 - precision_3: 0.9091\n",
      "Epoch 3: val_loss improved from 2.83940 to 2.80475, saving model to ../data/models/conv\n"
     ]
    },
    {
     "name": "stderr",
     "output_type": "stream",
     "text": [
      "WARNING:absl:Found untraced functions such as _jit_compiled_convolution_op, _jit_compiled_convolution_op, _jit_compiled_convolution_op, _jit_compiled_convolution_op, _update_step_xla while saving (showing 5 of 5). These functions will not be directly callable after loading.\n"
     ]
    },
    {
     "name": "stdout",
     "output_type": "stream",
     "text": [
      "INFO:tensorflow:Assets written to: ../data/models/conv/assets\n"
     ]
    },
    {
     "name": "stderr",
     "output_type": "stream",
     "text": [
      "INFO:tensorflow:Assets written to: ../data/models/conv/assets\n"
     ]
    },
    {
     "name": "stdout",
     "output_type": "stream",
     "text": [
      "6/6 [==============================] - 3s 482ms/step - loss: 1.5815 - recall_2: 0.0000e+00 - recall_3: 0.7857 - precision_2: 0.0000e+00 - precision_3: 0.8462 - val_loss: 2.8048 - val_recall_2: 0.0000e+00 - val_recall_3: 0.0000e+00 - val_precision_2: 0.0000e+00 - val_precision_3: 0.0000e+00 - lr: 0.0010\n",
      "Epoch 4/30\n",
      "6/6 [==============================] - ETA: 0s - loss: 1.2714 - recall_2: 0.0000e+00 - recall_3: 0.7143 - precision_2: 0.0000e+00 - precision_3: 1.0000    \n",
      "Epoch 4: val_loss improved from 2.80475 to 2.76655, saving model to ../data/models/conv\n"
     ]
    },
    {
     "name": "stderr",
     "output_type": "stream",
     "text": [
      "WARNING:absl:Found untraced functions such as _jit_compiled_convolution_op, _jit_compiled_convolution_op, _jit_compiled_convolution_op, _jit_compiled_convolution_op, _update_step_xla while saving (showing 5 of 5). These functions will not be directly callable after loading.\n"
     ]
    },
    {
     "name": "stdout",
     "output_type": "stream",
     "text": [
      "INFO:tensorflow:Assets written to: ../data/models/conv/assets\n"
     ]
    },
    {
     "name": "stderr",
     "output_type": "stream",
     "text": [
      "INFO:tensorflow:Assets written to: ../data/models/conv/assets\n"
     ]
    },
    {
     "name": "stdout",
     "output_type": "stream",
     "text": [
      "6/6 [==============================] - 2s 465ms/step - loss: 1.2714 - recall_2: 0.0000e+00 - recall_3: 0.7143 - precision_2: 0.0000e+00 - precision_3: 1.0000 - val_loss: 2.7665 - val_recall_2: 0.0000e+00 - val_recall_3: 0.0000e+00 - val_precision_2: 0.0000e+00 - val_precision_3: 0.0000e+00 - lr: 0.0010\n",
      "Epoch 5/30\n",
      "5/6 [========================>.....] - ETA: 0s - loss: 1.0523 - recall_2: 0.0000e+00 - recall_3: 0.6154 - precision_2: 0.0000e+00 - precision_3: 1.0000\n",
      "Epoch 5: val_loss improved from 2.76655 to 2.74703, saving model to ../data/models/conv\n"
     ]
    },
    {
     "name": "stderr",
     "output_type": "stream",
     "text": [
      "WARNING:absl:Found untraced functions such as _jit_compiled_convolution_op, _jit_compiled_convolution_op, _jit_compiled_convolution_op, _jit_compiled_convolution_op, _update_step_xla while saving (showing 5 of 5). These functions will not be directly callable after loading.\n"
     ]
    },
    {
     "name": "stdout",
     "output_type": "stream",
     "text": [
      "INFO:tensorflow:Assets written to: ../data/models/conv/assets\n"
     ]
    },
    {
     "name": "stderr",
     "output_type": "stream",
     "text": [
      "INFO:tensorflow:Assets written to: ../data/models/conv/assets\n"
     ]
    },
    {
     "name": "stdout",
     "output_type": "stream",
     "text": [
      "6/6 [==============================] - 3s 506ms/step - loss: 1.0600 - recall_2: 0.0000e+00 - recall_3: 0.6429 - precision_2: 0.0000e+00 - precision_3: 1.0000 - val_loss: 2.7470 - val_recall_2: 0.0000e+00 - val_recall_3: 0.0000e+00 - val_precision_2: 0.0000e+00 - val_precision_3: 0.0000e+00 - lr: 0.0010\n",
      "Epoch 6/30\n",
      "5/6 [========================>.....] - ETA: 0s - loss: 0.8452 - recall_2: 0.0000e+00 - recall_3: 1.0000 - precision_2: 0.0000e+00 - precision_3: 0.9091\n",
      "Epoch 6: val_loss improved from 2.74703 to 2.69534, saving model to ../data/models/conv\n"
     ]
    },
    {
     "name": "stderr",
     "output_type": "stream",
     "text": [
      "WARNING:absl:Found untraced functions such as _jit_compiled_convolution_op, _jit_compiled_convolution_op, _jit_compiled_convolution_op, _jit_compiled_convolution_op, _update_step_xla while saving (showing 5 of 5). These functions will not be directly callable after loading.\n"
     ]
    },
    {
     "name": "stdout",
     "output_type": "stream",
     "text": [
      "INFO:tensorflow:Assets written to: ../data/models/conv/assets\n"
     ]
    },
    {
     "name": "stderr",
     "output_type": "stream",
     "text": [
      "INFO:tensorflow:Assets written to: ../data/models/conv/assets\n"
     ]
    },
    {
     "name": "stdout",
     "output_type": "stream",
     "text": [
      "6/6 [==============================] - 2s 439ms/step - loss: 0.8790 - recall_2: 0.0000e+00 - recall_3: 0.8571 - precision_2: 0.0000e+00 - precision_3: 0.9231 - val_loss: 2.6953 - val_recall_2: 0.0000e+00 - val_recall_3: 0.0000e+00 - val_precision_2: 0.0000e+00 - val_precision_3: 0.0000e+00 - lr: 0.0010\n",
      "Epoch 7/30\n",
      "5/6 [========================>.....] - ETA: 0s - loss: 0.7356 - recall_2: 0.0000e+00 - recall_3: 1.0000 - precision_2: 0.0000e+00 - precision_3: 1.0000\n",
      "Epoch 7: val_loss improved from 2.69534 to 2.62141, saving model to ../data/models/conv\n"
     ]
    },
    {
     "name": "stderr",
     "output_type": "stream",
     "text": [
      "WARNING:absl:Found untraced functions such as _jit_compiled_convolution_op, _jit_compiled_convolution_op, _jit_compiled_convolution_op, _jit_compiled_convolution_op, _update_step_xla while saving (showing 5 of 5). These functions will not be directly callable after loading.\n"
     ]
    },
    {
     "name": "stdout",
     "output_type": "stream",
     "text": [
      "INFO:tensorflow:Assets written to: ../data/models/conv/assets\n"
     ]
    },
    {
     "name": "stderr",
     "output_type": "stream",
     "text": [
      "INFO:tensorflow:Assets written to: ../data/models/conv/assets\n"
     ]
    },
    {
     "name": "stdout",
     "output_type": "stream",
     "text": [
      "6/6 [==============================] - 2s 440ms/step - loss: 0.7268 - recall_2: 0.0000e+00 - recall_3: 1.0000 - precision_2: 0.0000e+00 - precision_3: 1.0000 - val_loss: 2.6214 - val_recall_2: 0.0000e+00 - val_recall_3: 0.0000e+00 - val_precision_2: 0.0000e+00 - val_precision_3: 0.0000e+00 - lr: 0.0010\n",
      "Epoch 8/30\n",
      "5/6 [========================>.....] - ETA: 0s - loss: 0.6720 - recall_2: 0.0000e+00 - recall_3: 1.0000 - precision_2: 0.0000e+00 - precision_3: 1.0000\n",
      "Epoch 8: val_loss improved from 2.62141 to 2.55407, saving model to ../data/models/conv\n"
     ]
    },
    {
     "name": "stderr",
     "output_type": "stream",
     "text": [
      "WARNING:absl:Found untraced functions such as _jit_compiled_convolution_op, _jit_compiled_convolution_op, _jit_compiled_convolution_op, _jit_compiled_convolution_op, _update_step_xla while saving (showing 5 of 5). These functions will not be directly callable after loading.\n"
     ]
    },
    {
     "name": "stdout",
     "output_type": "stream",
     "text": [
      "INFO:tensorflow:Assets written to: ../data/models/conv/assets\n"
     ]
    },
    {
     "name": "stderr",
     "output_type": "stream",
     "text": [
      "INFO:tensorflow:Assets written to: ../data/models/conv/assets\n"
     ]
    },
    {
     "name": "stdout",
     "output_type": "stream",
     "text": [
      "6/6 [==============================] - 2s 415ms/step - loss: 0.7004 - recall_2: 0.0000e+00 - recall_3: 0.9286 - precision_2: 0.0000e+00 - precision_3: 1.0000 - val_loss: 2.5541 - val_recall_2: 0.0000e+00 - val_recall_3: 0.0000e+00 - val_precision_2: 0.0000e+00 - val_precision_3: 0.0000e+00 - lr: 0.0010\n",
      "Epoch 9/30\n",
      "6/6 [==============================] - ETA: 0s - loss: 0.5613 - recall_2: 0.0000e+00 - recall_3: 1.0000 - precision_2: 0.0000e+00 - precision_3: 0.9333\n",
      "Epoch 9: val_loss improved from 2.55407 to 2.54119, saving model to ../data/models/conv\n"
     ]
    },
    {
     "name": "stderr",
     "output_type": "stream",
     "text": [
      "WARNING:absl:Found untraced functions such as _jit_compiled_convolution_op, _jit_compiled_convolution_op, _jit_compiled_convolution_op, _jit_compiled_convolution_op, _update_step_xla while saving (showing 5 of 5). These functions will not be directly callable after loading.\n"
     ]
    },
    {
     "name": "stdout",
     "output_type": "stream",
     "text": [
      "INFO:tensorflow:Assets written to: ../data/models/conv/assets\n"
     ]
    },
    {
     "name": "stderr",
     "output_type": "stream",
     "text": [
      "INFO:tensorflow:Assets written to: ../data/models/conv/assets\n"
     ]
    },
    {
     "name": "stdout",
     "output_type": "stream",
     "text": [
      "6/6 [==============================] - 2s 412ms/step - loss: 0.5613 - recall_2: 0.0000e+00 - recall_3: 1.0000 - precision_2: 0.0000e+00 - precision_3: 0.9333 - val_loss: 2.5412 - val_recall_2: 0.0000e+00 - val_recall_3: 0.0000e+00 - val_precision_2: 0.0000e+00 - val_precision_3: 0.0000e+00 - lr: 0.0010\n",
      "Epoch 10/30\n",
      "5/6 [========================>.....] - ETA: 0s - loss: 0.5173 - recall_2: 0.0000e+00 - recall_3: 1.0000 - precision_2: 0.0000e+00 - precision_3: 1.0000\n",
      "Epoch 10: val_loss improved from 2.54119 to 2.48466, saving model to ../data/models/conv\n"
     ]
    },
    {
     "name": "stderr",
     "output_type": "stream",
     "text": [
      "WARNING:absl:Found untraced functions such as _jit_compiled_convolution_op, _jit_compiled_convolution_op, _jit_compiled_convolution_op, _jit_compiled_convolution_op, _update_step_xla while saving (showing 5 of 5). These functions will not be directly callable after loading.\n"
     ]
    },
    {
     "name": "stdout",
     "output_type": "stream",
     "text": [
      "INFO:tensorflow:Assets written to: ../data/models/conv/assets\n"
     ]
    },
    {
     "name": "stderr",
     "output_type": "stream",
     "text": [
      "INFO:tensorflow:Assets written to: ../data/models/conv/assets\n"
     ]
    },
    {
     "name": "stdout",
     "output_type": "stream",
     "text": [
      "6/6 [==============================] - 2s 453ms/step - loss: 0.5286 - recall_2: 0.0000e+00 - recall_3: 1.0000 - precision_2: 0.0000e+00 - precision_3: 1.0000 - val_loss: 2.4847 - val_recall_2: 0.0000e+00 - val_recall_3: 0.0000e+00 - val_precision_2: 0.0000e+00 - val_precision_3: 0.0000e+00 - lr: 0.0010\n",
      "Epoch 11/30\n",
      "5/6 [========================>.....] - ETA: 0s - loss: 0.4735 - recall_2: 0.0000e+00 - recall_3: 1.0000 - precision_2: 0.0000e+00 - precision_3: 0.9286\n",
      "Epoch 11: val_loss improved from 2.48466 to 2.42609, saving model to ../data/models/conv\n"
     ]
    },
    {
     "name": "stderr",
     "output_type": "stream",
     "text": [
      "WARNING:absl:Found untraced functions such as _jit_compiled_convolution_op, _jit_compiled_convolution_op, _jit_compiled_convolution_op, _jit_compiled_convolution_op, _update_step_xla while saving (showing 5 of 5). These functions will not be directly callable after loading.\n"
     ]
    },
    {
     "name": "stdout",
     "output_type": "stream",
     "text": [
      "INFO:tensorflow:Assets written to: ../data/models/conv/assets\n"
     ]
    },
    {
     "name": "stderr",
     "output_type": "stream",
     "text": [
      "INFO:tensorflow:Assets written to: ../data/models/conv/assets\n"
     ]
    },
    {
     "name": "stdout",
     "output_type": "stream",
     "text": [
      "6/6 [==============================] - 2s 399ms/step - loss: 0.4887 - recall_2: 0.0000e+00 - recall_3: 1.0000 - precision_2: 0.0000e+00 - precision_3: 0.9333 - val_loss: 2.4261 - val_recall_2: 0.0000e+00 - val_recall_3: 0.0000e+00 - val_precision_2: 0.0000e+00 - val_precision_3: 0.0000e+00 - lr: 0.0010\n",
      "Epoch 12/30\n",
      "5/6 [========================>.....] - ETA: 0s - loss: 0.4849 - recall_2: 0.0000e+00 - recall_3: 0.9231 - precision_2: 0.0000e+00 - precision_3: 1.0000\n",
      "Epoch 12: val_loss improved from 2.42609 to 2.36119, saving model to ../data/models/conv\n"
     ]
    },
    {
     "name": "stderr",
     "output_type": "stream",
     "text": [
      "WARNING:absl:Found untraced functions such as _jit_compiled_convolution_op, _jit_compiled_convolution_op, _jit_compiled_convolution_op, _jit_compiled_convolution_op, _update_step_xla while saving (showing 5 of 5). These functions will not be directly callable after loading.\n"
     ]
    },
    {
     "name": "stdout",
     "output_type": "stream",
     "text": [
      "INFO:tensorflow:Assets written to: ../data/models/conv/assets\n"
     ]
    },
    {
     "name": "stderr",
     "output_type": "stream",
     "text": [
      "INFO:tensorflow:Assets written to: ../data/models/conv/assets\n"
     ]
    },
    {
     "name": "stdout",
     "output_type": "stream",
     "text": [
      "6/6 [==============================] - 2s 429ms/step - loss: 0.4724 - recall_2: 0.0000e+00 - recall_3: 0.9286 - precision_2: 0.0000e+00 - precision_3: 1.0000 - val_loss: 2.3612 - val_recall_2: 0.0000e+00 - val_recall_3: 0.0000e+00 - val_precision_2: 0.0000e+00 - val_precision_3: 0.0000e+00 - lr: 0.0010\n",
      "Epoch 13/30\n",
      "5/6 [========================>.....] - ETA: 0s - loss: 0.4184 - recall_2: 0.0000e+00 - recall_3: 0.9091 - precision_2: 0.0000e+00 - precision_3: 0.9091     \n",
      "Epoch 13: val_loss improved from 2.36119 to 2.31967, saving model to ../data/models/conv\n"
     ]
    },
    {
     "name": "stderr",
     "output_type": "stream",
     "text": [
      "WARNING:absl:Found untraced functions such as _jit_compiled_convolution_op, _jit_compiled_convolution_op, _jit_compiled_convolution_op, _jit_compiled_convolution_op, _update_step_xla while saving (showing 5 of 5). These functions will not be directly callable after loading.\n"
     ]
    },
    {
     "name": "stdout",
     "output_type": "stream",
     "text": [
      "INFO:tensorflow:Assets written to: ../data/models/conv/assets\n"
     ]
    },
    {
     "name": "stderr",
     "output_type": "stream",
     "text": [
      "INFO:tensorflow:Assets written to: ../data/models/conv/assets\n"
     ]
    },
    {
     "name": "stdout",
     "output_type": "stream",
     "text": [
      "6/6 [==============================] - 2s 460ms/step - loss: 0.4093 - recall_2: 0.0000e+00 - recall_3: 0.9286 - precision_2: 0.0000e+00 - precision_3: 0.9286 - val_loss: 2.3197 - val_recall_2: 0.0000e+00 - val_recall_3: 0.0000e+00 - val_precision_2: 0.0000e+00 - val_precision_3: 0.0000e+00 - lr: 0.0010\n",
      "Epoch 14/30\n",
      "5/6 [========================>.....] - ETA: 0s - loss: 0.3459 - recall_2: 1.0000 - recall_3: 1.0000 - precision_2: 1.0000 - precision_3: 1.0000       \n",
      "Epoch 14: val_loss improved from 2.31967 to 2.25308, saving model to ../data/models/conv\n"
     ]
    },
    {
     "name": "stderr",
     "output_type": "stream",
     "text": [
      "WARNING:absl:Found untraced functions such as _jit_compiled_convolution_op, _jit_compiled_convolution_op, _jit_compiled_convolution_op, _jit_compiled_convolution_op, _update_step_xla while saving (showing 5 of 5). These functions will not be directly callable after loading.\n"
     ]
    },
    {
     "name": "stdout",
     "output_type": "stream",
     "text": [
      "INFO:tensorflow:Assets written to: ../data/models/conv/assets\n"
     ]
    },
    {
     "name": "stderr",
     "output_type": "stream",
     "text": [
      "INFO:tensorflow:Assets written to: ../data/models/conv/assets\n"
     ]
    },
    {
     "name": "stdout",
     "output_type": "stream",
     "text": [
      "6/6 [==============================] - 2s 416ms/step - loss: 0.3438 - recall_2: 1.0000 - recall_3: 1.0000 - precision_2: 1.0000 - precision_3: 1.0000 - val_loss: 2.2531 - val_recall_2: 0.0000e+00 - val_recall_3: 0.0000e+00 - val_precision_2: 0.0000e+00 - val_precision_3: 0.0000e+00 - lr: 0.0010\n",
      "Epoch 15/30\n",
      "5/6 [========================>.....] - ETA: 0s - loss: 0.3713 - recall_2: 0.0000e+00 - recall_3: 1.0000 - precision_2: 0.0000e+00 - precision_3: 0.9333\n",
      "Epoch 15: val_loss improved from 2.25308 to 2.15212, saving model to ../data/models/conv\n"
     ]
    },
    {
     "name": "stderr",
     "output_type": "stream",
     "text": [
      "WARNING:absl:Found untraced functions such as _jit_compiled_convolution_op, _jit_compiled_convolution_op, _jit_compiled_convolution_op, _jit_compiled_convolution_op, _update_step_xla while saving (showing 5 of 5). These functions will not be directly callable after loading.\n"
     ]
    },
    {
     "name": "stdout",
     "output_type": "stream",
     "text": [
      "INFO:tensorflow:Assets written to: ../data/models/conv/assets\n"
     ]
    },
    {
     "name": "stderr",
     "output_type": "stream",
     "text": [
      "INFO:tensorflow:Assets written to: ../data/models/conv/assets\n"
     ]
    },
    {
     "name": "stdout",
     "output_type": "stream",
     "text": [
      "6/6 [==============================] - 2s 465ms/step - loss: 0.3794 - recall_2: 0.0000e+00 - recall_3: 1.0000 - precision_2: 0.0000e+00 - precision_3: 0.9333 - val_loss: 2.1521 - val_recall_2: 0.0000e+00 - val_recall_3: 0.0000e+00 - val_precision_2: 0.0000e+00 - val_precision_3: 0.0000e+00 - lr: 0.0010\n",
      "Epoch 16/30\n",
      "6/6 [==============================] - ETA: 0s - loss: 0.3850 - recall_2: 0.0000e+00 - recall_3: 0.9286 - precision_2: 0.0000e+00 - precision_3: 1.0000\n",
      "Epoch 16: val_loss improved from 2.15212 to 2.11945, saving model to ../data/models/conv\n"
     ]
    },
    {
     "name": "stderr",
     "output_type": "stream",
     "text": [
      "WARNING:absl:Found untraced functions such as _jit_compiled_convolution_op, _jit_compiled_convolution_op, _jit_compiled_convolution_op, _jit_compiled_convolution_op, _update_step_xla while saving (showing 5 of 5). These functions will not be directly callable after loading.\n"
     ]
    },
    {
     "name": "stdout",
     "output_type": "stream",
     "text": [
      "INFO:tensorflow:Assets written to: ../data/models/conv/assets\n"
     ]
    },
    {
     "name": "stderr",
     "output_type": "stream",
     "text": [
      "INFO:tensorflow:Assets written to: ../data/models/conv/assets\n"
     ]
    },
    {
     "name": "stdout",
     "output_type": "stream",
     "text": [
      "6/6 [==============================] - 3s 564ms/step - loss: 0.3850 - recall_2: 0.0000e+00 - recall_3: 0.9286 - precision_2: 0.0000e+00 - precision_3: 1.0000 - val_loss: 2.1194 - val_recall_2: 0.0000e+00 - val_recall_3: 0.0000e+00 - val_precision_2: 0.0000e+00 - val_precision_3: 0.0000e+00 - lr: 0.0010\n",
      "Epoch 17/30\n",
      "6/6 [==============================] - ETA: 0s - loss: 0.2536 - recall_2: 1.0000 - recall_3: 1.0000 - precision_2: 1.0000 - precision_3: 1.0000     \n",
      "Epoch 17: val_loss did not improve from 2.11945\n",
      "6/6 [==============================] - 1s 84ms/step - loss: 0.2536 - recall_2: 1.0000 - recall_3: 1.0000 - precision_2: 1.0000 - precision_3: 1.0000 - val_loss: 2.1860 - val_recall_2: 0.0000e+00 - val_recall_3: 0.0000e+00 - val_precision_2: 0.0000e+00 - val_precision_3: 0.0000e+00 - lr: 0.0010\n",
      "Epoch 18/30\n",
      "5/6 [========================>.....] - ETA: 0s - loss: 0.3041 - recall_2: 0.0000e+00 - recall_3: 1.0000 - precision_2: 0.0000e+00 - precision_3: 1.0000\n",
      "Epoch 18: val_loss did not improve from 2.11945\n",
      "6/6 [==============================] - 0s 78ms/step - loss: 0.2930 - recall_2: 0.0000e+00 - recall_3: 1.0000 - precision_2: 0.0000e+00 - precision_3: 1.0000 - val_loss: 2.1874 - val_recall_2: 0.0000e+00 - val_recall_3: 0.0000e+00 - val_precision_2: 0.0000e+00 - val_precision_3: 0.0000e+00 - lr: 0.0010\n",
      "Epoch 19/30\n",
      "5/6 [========================>.....] - ETA: 0s - loss: 0.2522 - recall_2: 1.0000 - recall_3: 1.0000 - precision_2: 1.0000 - precision_3: 1.0000        \n",
      "Epoch 19: val_loss improved from 2.11945 to 2.08707, saving model to ../data/models/conv\n"
     ]
    },
    {
     "name": "stderr",
     "output_type": "stream",
     "text": [
      "WARNING:absl:Found untraced functions such as _jit_compiled_convolution_op, _jit_compiled_convolution_op, _jit_compiled_convolution_op, _jit_compiled_convolution_op, _update_step_xla while saving (showing 5 of 5). These functions will not be directly callable after loading.\n"
     ]
    },
    {
     "name": "stdout",
     "output_type": "stream",
     "text": [
      "INFO:tensorflow:Assets written to: ../data/models/conv/assets\n"
     ]
    },
    {
     "name": "stderr",
     "output_type": "stream",
     "text": [
      "INFO:tensorflow:Assets written to: ../data/models/conv/assets\n"
     ]
    },
    {
     "name": "stdout",
     "output_type": "stream",
     "text": [
      "6/6 [==============================] - 2s 444ms/step - loss: 0.2531 - recall_2: 1.0000 - recall_3: 1.0000 - precision_2: 1.0000 - precision_3: 1.0000 - val_loss: 2.0871 - val_recall_2: 0.0000e+00 - val_recall_3: 0.0000e+00 - val_precision_2: 0.0000e+00 - val_precision_3: 0.0000e+00 - lr: 0.0010\n",
      "Epoch 20/30\n",
      "5/6 [========================>.....] - ETA: 0s - loss: 0.2298 - recall_2: 0.0000e+00 - recall_3: 0.9231 - precision_2: 0.0000e+00 - precision_3: 1.0000\n",
      "Epoch 20: val_loss did not improve from 2.08707\n",
      "6/6 [==============================] - 0s 69ms/step - loss: 0.2357 - recall_2: 0.0000e+00 - recall_3: 0.9286 - precision_2: 0.0000e+00 - precision_3: 0.9286 - val_loss: 2.1120 - val_recall_2: 0.0000e+00 - val_recall_3: 0.0000e+00 - val_precision_2: 0.0000e+00 - val_precision_3: 0.0000e+00 - lr: 0.0010\n",
      "Epoch 21/30\n",
      "6/6 [==============================] - ETA: 0s - loss: 0.1874 - recall_2: 1.0000 - recall_3: 1.0000 - precision_2: 1.0000 - precision_3: 1.0000     \n",
      "Epoch 21: val_loss did not improve from 2.08707\n",
      "6/6 [==============================] - 1s 81ms/step - loss: 0.1874 - recall_2: 1.0000 - recall_3: 1.0000 - precision_2: 1.0000 - precision_3: 1.0000 - val_loss: 2.1039 - val_recall_2: 0.0000e+00 - val_recall_3: 0.0000e+00 - val_precision_2: 0.0000e+00 - val_precision_3: 0.0000e+00 - lr: 0.0010\n",
      "Epoch 22/30\n",
      "5/6 [========================>.....] - ETA: 0s - loss: 0.1610 - recall_2: 1.0000 - recall_3: 1.0000 - precision_2: 1.0000 - precision_3: 1.0000       \n",
      "Epoch 22: val_loss improved from 2.08707 to 2.07595, saving model to ../data/models/conv\n"
     ]
    },
    {
     "name": "stderr",
     "output_type": "stream",
     "text": [
      "WARNING:absl:Found untraced functions such as _jit_compiled_convolution_op, _jit_compiled_convolution_op, _jit_compiled_convolution_op, _jit_compiled_convolution_op, _update_step_xla while saving (showing 5 of 5). These functions will not be directly callable after loading.\n"
     ]
    },
    {
     "name": "stdout",
     "output_type": "stream",
     "text": [
      "INFO:tensorflow:Assets written to: ../data/models/conv/assets\n"
     ]
    },
    {
     "name": "stderr",
     "output_type": "stream",
     "text": [
      "INFO:tensorflow:Assets written to: ../data/models/conv/assets\n"
     ]
    },
    {
     "name": "stdout",
     "output_type": "stream",
     "text": [
      "6/6 [==============================] - 3s 483ms/step - loss: 0.1713 - recall_2: 1.0000 - recall_3: 1.0000 - precision_2: 1.0000 - precision_3: 1.0000 - val_loss: 2.0760 - val_recall_2: 0.0000e+00 - val_recall_3: 0.0000e+00 - val_precision_2: 0.0000e+00 - val_precision_3: 0.0000e+00 - lr: 0.0010\n",
      "Epoch 23/30\n",
      "6/6 [==============================] - ETA: 0s - loss: 0.1526 - recall_2: 1.0000 - recall_3: 0.9286 - precision_2: 1.0000 - precision_3: 1.0000        \n",
      "Epoch 23: val_loss did not improve from 2.07595\n",
      "6/6 [==============================] - 0s 76ms/step - loss: 0.1526 - recall_2: 1.0000 - recall_3: 0.9286 - precision_2: 1.0000 - precision_3: 1.0000 - val_loss: 2.1006 - val_recall_2: 0.0000e+00 - val_recall_3: 0.0000e+00 - val_precision_2: 0.0000e+00 - val_precision_3: 0.0000e+00 - lr: 0.0010\n",
      "Epoch 24/30\n",
      "6/6 [==============================] - ETA: 0s - loss: 0.1638 - recall_2: 1.0000 - recall_3: 1.0000 - precision_2: 1.0000 - precision_3: 0.9333      \n",
      "Epoch 24: val_loss improved from 2.07595 to 2.01469, saving model to ../data/models/conv\n"
     ]
    },
    {
     "name": "stderr",
     "output_type": "stream",
     "text": [
      "WARNING:absl:Found untraced functions such as _jit_compiled_convolution_op, _jit_compiled_convolution_op, _jit_compiled_convolution_op, _jit_compiled_convolution_op, _update_step_xla while saving (showing 5 of 5). These functions will not be directly callable after loading.\n"
     ]
    },
    {
     "name": "stdout",
     "output_type": "stream",
     "text": [
      "INFO:tensorflow:Assets written to: ../data/models/conv/assets\n"
     ]
    },
    {
     "name": "stderr",
     "output_type": "stream",
     "text": [
      "INFO:tensorflow:Assets written to: ../data/models/conv/assets\n"
     ]
    },
    {
     "name": "stdout",
     "output_type": "stream",
     "text": [
      "6/6 [==============================] - 2s 426ms/step - loss: 0.1638 - recall_2: 1.0000 - recall_3: 1.0000 - precision_2: 1.0000 - precision_3: 0.9333 - val_loss: 2.0147 - val_recall_2: 0.0000e+00 - val_recall_3: 0.0000e+00 - val_precision_2: 0.0000e+00 - val_precision_3: 0.0000e+00 - lr: 0.0010\n",
      "Epoch 25/30\n",
      "5/6 [========================>.....] - ETA: 0s - loss: 0.1291 - recall_2: 1.0000 - recall_3: 1.0000 - precision_2: 1.0000 - precision_3: 1.0000       \n",
      "Epoch 25: val_loss improved from 2.01469 to 1.96587, saving model to ../data/models/conv\n"
     ]
    },
    {
     "name": "stderr",
     "output_type": "stream",
     "text": [
      "WARNING:absl:Found untraced functions such as _jit_compiled_convolution_op, _jit_compiled_convolution_op, _jit_compiled_convolution_op, _jit_compiled_convolution_op, _update_step_xla while saving (showing 5 of 5). These functions will not be directly callable after loading.\n"
     ]
    },
    {
     "name": "stdout",
     "output_type": "stream",
     "text": [
      "INFO:tensorflow:Assets written to: ../data/models/conv/assets\n"
     ]
    },
    {
     "name": "stderr",
     "output_type": "stream",
     "text": [
      "INFO:tensorflow:Assets written to: ../data/models/conv/assets\n"
     ]
    },
    {
     "name": "stdout",
     "output_type": "stream",
     "text": [
      "6/6 [==============================] - 2s 399ms/step - loss: 0.1386 - recall_2: 1.0000 - recall_3: 1.0000 - precision_2: 1.0000 - precision_3: 1.0000 - val_loss: 1.9659 - val_recall_2: 0.0000e+00 - val_recall_3: 0.0000e+00 - val_precision_2: 0.0000e+00 - val_precision_3: 0.0000e+00 - lr: 0.0010\n",
      "Epoch 26/30\n",
      "6/6 [==============================] - ETA: 0s - loss: 0.1144 - recall_2: 1.0000 - recall_3: 1.0000 - precision_2: 1.0000 - precision_3: 1.0000     \n",
      "Epoch 26: val_loss improved from 1.96587 to 1.92374, saving model to ../data/models/conv\n"
     ]
    },
    {
     "name": "stderr",
     "output_type": "stream",
     "text": [
      "WARNING:absl:Found untraced functions such as _jit_compiled_convolution_op, _jit_compiled_convolution_op, _jit_compiled_convolution_op, _jit_compiled_convolution_op, _update_step_xla while saving (showing 5 of 5). These functions will not be directly callable after loading.\n"
     ]
    },
    {
     "name": "stdout",
     "output_type": "stream",
     "text": [
      "INFO:tensorflow:Assets written to: ../data/models/conv/assets\n"
     ]
    },
    {
     "name": "stderr",
     "output_type": "stream",
     "text": [
      "INFO:tensorflow:Assets written to: ../data/models/conv/assets\n"
     ]
    },
    {
     "name": "stdout",
     "output_type": "stream",
     "text": [
      "6/6 [==============================] - 3s 580ms/step - loss: 0.1144 - recall_2: 1.0000 - recall_3: 1.0000 - precision_2: 1.0000 - precision_3: 1.0000 - val_loss: 1.9237 - val_recall_2: 0.0000e+00 - val_recall_3: 0.0000e+00 - val_precision_2: 0.0000e+00 - val_precision_3: 0.0000e+00 - lr: 0.0010\n",
      "Epoch 27/30\n",
      "6/6 [==============================] - ETA: 0s - loss: 0.1346 - recall_2: 1.0000 - recall_3: 1.0000 - precision_2: 1.0000 - precision_3: 1.0000     \n",
      "Epoch 27: val_loss did not improve from 1.92374\n",
      "6/6 [==============================] - 1s 96ms/step - loss: 0.1346 - recall_2: 1.0000 - recall_3: 1.0000 - precision_2: 1.0000 - precision_3: 1.0000 - val_loss: 1.9309 - val_recall_2: 0.0000e+00 - val_recall_3: 0.0000e+00 - val_precision_2: 0.0000e+00 - val_precision_3: 0.0000e+00 - lr: 0.0010\n",
      "Epoch 28/30\n",
      "6/6 [==============================] - ETA: 0s - loss: 0.1444 - recall_2: 1.0000 - recall_3: 0.9286 - precision_2: 1.0000 - precision_3: 1.0000      \n",
      "Epoch 28: val_loss improved from 1.92374 to 1.88712, saving model to ../data/models/conv\n"
     ]
    },
    {
     "name": "stderr",
     "output_type": "stream",
     "text": [
      "WARNING:absl:Found untraced functions such as _jit_compiled_convolution_op, _jit_compiled_convolution_op, _jit_compiled_convolution_op, _jit_compiled_convolution_op, _update_step_xla while saving (showing 5 of 5). These functions will not be directly callable after loading.\n"
     ]
    },
    {
     "name": "stdout",
     "output_type": "stream",
     "text": [
      "INFO:tensorflow:Assets written to: ../data/models/conv/assets\n"
     ]
    },
    {
     "name": "stderr",
     "output_type": "stream",
     "text": [
      "INFO:tensorflow:Assets written to: ../data/models/conv/assets\n"
     ]
    },
    {
     "name": "stdout",
     "output_type": "stream",
     "text": [
      "6/6 [==============================] - 2s 427ms/step - loss: 0.1444 - recall_2: 1.0000 - recall_3: 0.9286 - precision_2: 1.0000 - precision_3: 1.0000 - val_loss: 1.8871 - val_recall_2: 0.0000e+00 - val_recall_3: 0.0000e+00 - val_precision_2: 0.0000e+00 - val_precision_3: 0.0000e+00 - lr: 0.0010\n",
      "Epoch 29/30\n",
      "5/6 [========================>.....] - ETA: 0s - loss: 0.1363 - recall_2: 1.0000 - recall_3: 1.0000 - precision_2: 1.0000 - precision_3: 1.0000       \n",
      "Epoch 29: val_loss did not improve from 1.88712\n",
      "6/6 [==============================] - 1s 76ms/step - loss: 0.1451 - recall_2: 1.0000 - recall_3: 1.0000 - precision_2: 1.0000 - precision_3: 1.0000 - val_loss: 1.9049 - val_recall_2: 0.0000e+00 - val_recall_3: 0.0000e+00 - val_precision_2: 0.0000e+00 - val_precision_3: 0.0000e+00 - lr: 0.0010\n",
      "Epoch 30/30\n",
      "5/6 [========================>.....] - ETA: 0s - loss: 0.0842 - recall_2: 1.0000 - recall_3: 1.0000 - precision_2: 1.0000 - precision_3: 1.0000        \n",
      "Epoch 30: val_loss improved from 1.88712 to 1.86748, saving model to ../data/models/conv\n"
     ]
    },
    {
     "name": "stderr",
     "output_type": "stream",
     "text": [
      "WARNING:absl:Found untraced functions such as _jit_compiled_convolution_op, _jit_compiled_convolution_op, _jit_compiled_convolution_op, _jit_compiled_convolution_op, _update_step_xla while saving (showing 5 of 5). These functions will not be directly callable after loading.\n"
     ]
    },
    {
     "name": "stdout",
     "output_type": "stream",
     "text": [
      "INFO:tensorflow:Assets written to: ../data/models/conv/assets\n"
     ]
    },
    {
     "name": "stderr",
     "output_type": "stream",
     "text": [
      "INFO:tensorflow:Assets written to: ../data/models/conv/assets\n"
     ]
    },
    {
     "name": "stdout",
     "output_type": "stream",
     "text": [
      "6/6 [==============================] - 2s 465ms/step - loss: 0.0826 - recall_2: 1.0000 - recall_3: 1.0000 - precision_2: 1.0000 - precision_3: 1.0000 - val_loss: 1.8675 - val_recall_2: 0.0000e+00 - val_recall_3: 0.0000e+00 - val_precision_2: 0.0000e+00 - val_precision_3: 0.0000e+00 - lr: 0.0010\n"
     ]
    },
    {
     "data": {
      "text/plain": [
       "<keras.callbacks.History at 0x15111c2b0>"
      ]
     },
     "execution_count": 57,
     "metadata": {},
     "output_type": "execute_result"
    }
   ],
   "source": [
    "# Train the convolutional neural network\n",
    "conv_classifier.fit(db.train_dataset,\n",
    "                    validation_data=db.val_dataset,\n",
    "                    epochs=n_epochs,\n",
    "                    verbose=1,\n",
    "                    callbacks=conv_callbacks)"
   ]
  },
  {
   "attachments": {},
   "cell_type": "markdown",
   "metadata": {},
   "source": [
    "Examining Model Performance"
   ]
  },
  {
   "cell_type": "code",
   "execution_count": 58,
   "metadata": {},
   "outputs": [
    {
     "name": "stderr",
     "output_type": "stream",
     "text": [
      "2023-04-21 15:32:25.340513: I tensorflow/core/common_runtime/executor.cc:1197] [/device:CPU:0] (DEBUG INFO) Executor start aborting (this does not indicate an error and you can ignore this message): INVALID_ARGUMENT: You must feed a value for placeholder tensor 'Placeholder/_1' with dtype float and shape [45,18]\n",
      "\t [[{{node Placeholder/_1}}]]\n"
     ]
    },
    {
     "name": "stdout",
     "output_type": "stream",
     "text": [
      "2/2 [==============================] - 0s 17ms/step\n"
     ]
    },
    {
     "data": {
      "image/png": "[encoded data removed]",
      "text/plain": [
       "<Figure size 640x480 with 2 Axes>"
      ]
     },
     "metadata": {},
     "output_type": "display_data"
    }
   ],
   "source": [
    "# Generate predictions\n",
    "test_list = list(db.test_dataset.as_numpy_iterator())\n",
    "X_test = [item[0] for item in test_list]\n",
    "y_test = [item[1] for item in test_list]\n",
    "\n",
    "X_test = np.concatenate(X_test, axis=0)\n",
    "y_test = np.concatenate(y_test, axis=0)\n",
    "y_test = np.argmax(y_test, axis=-1)\n",
    "\n",
    "# Compute conv metrics\n",
    "y_pred = conv_classifier.predict(X_test)\n",
    "y_pred = np.argmax(y_pred, axis=-1)\n",
    "\n",
    "confusion_matrix = sklearn.metrics.confusion_matrix(y_test, y_pred)\n",
    "cm_display = sklearn.metrics.ConfusionMatrixDisplay(confusion_matrix = confusion_matrix)\n",
    "cm_display.plot(cmap=plt.cm.Blues)\n",
    "plt.show()\n",
    "\n",
    "# cm_display.save(\"../figures/confusion_matrix_heatmap.png\", width=6, height=6, dpi=300, facecolor='w')\n"
   ]
  },
  {
   "attachments": {},
   "cell_type": "markdown",
   "metadata": {},
   "source": [
    "# Complete Analysis Pipeline"
   ]
  },
  {
   "cell_type": "code",
   "execution_count": null,
   "metadata": {},
   "outputs": [],
   "source": [
    "def prep_model_input(X, y, cell_types):\n",
    "    # Normalize data\n",
    "    X_norm = np.zeros_like(X)\n",
    "    for i in tqdm(range(X.shape[-1])):\n",
    "        X_norm[..., i] = normalize_image(X[..., i])\n",
    "    \n",
    "    # create cell views using bonding boxes\n",
    "    cell_views = np.empty((len(variable_markers.index),), dtype=object)\n",
    "    cell_types_list = np.empty((len(variable_markers.index),), dtype=object)\n",
    "    for i, channel_key in enumerate(tqdm(variable_markers.index)):\n",
    "        cell_views[i], cell_types_list[i] = get_cell_boxes(X_norm[0,:,:,channel_key], y[0,:,:,0], cell_types, use_all_cells=False)\n",
    "    \n",
    "    # format cell views for model input\n",
    "    reshaped_cell_views = np.empty((len(cell_views), len(cell_views[0]), 21, 21))\n",
    "    for i, channel in enumerate(cell_views):\n",
    "        reshaped_cell_views[i] = np.stack(channel)\n",
    "    cell_views_transposed = np.transpose(reshaped_cell_views, (1, 2, 3, 0))\n",
    "\n",
    "    reshaped_cell_types = np.empty((len(cell_types_list), len(cell_types_list[0])))\n",
    "    for i, channel in enumerate(cell_types_list):\n",
    "        reshaped_cell_types[i] = np.stack(channel)\n",
    "    reshaped_cell_types = reshaped_cell_types.transpose((1, 0))\n",
    "\n",
    "    return cell_views_transposed, reshaped_cell_types"
   ]
  },
  {
   "cell_type": "code",
   "execution_count": 85,
   "metadata": {},
   "outputs": [],
   "source": [
    "def run_pipeline(X, y, cell_types):\n",
    "    cell_views, cell_types = prep_model_input(X, y, cell_types)\n",
    "    # load pretrained model\n",
    "    model = tf.keras.models.load_model('../data/models/conv')\n",
    "    predictions = model.predict(x_test)\n",
    "    return predictions"
   ]
  },
  {
   "attachments": {},
   "cell_type": "markdown",
   "metadata": {},
   "source": [
    "Example Model execution"
   ]
  },
  {
   "cell_type": "code",
   "execution_count": null,
   "metadata": {},
   "outputs": [],
   "source": [
    "model_results = run_pipeline(X, y, cell_types)"
   ]
  },
  {
   "cell_type": "markdown",
   "metadata": {},
   "source": []
  }
 ],
 "metadata": {
  "kernelspec": {
   "display_name": "bebi205",
   "language": "python",
   "name": "python3"
  },
  "language_info": {
   "codemirror_mode": {
    "name": "ipython",
    "version": 3
   },
   "file_extension": ".py",
   "mimetype": "text/x-python",
   "name": "python",
   "nbconvert_exporter": "python",
   "pygments_lexer": "ipython3",
   "version": "3.10.10"
  },
  "orig_nbformat": 4
 },
 "nbformat": 4,
 "nbformat_minor": 2
}
